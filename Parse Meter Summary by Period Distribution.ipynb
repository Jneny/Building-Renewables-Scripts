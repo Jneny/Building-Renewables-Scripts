{
 "cells": [
  {
   "cell_type": "code",
   "execution_count": null,
   "metadata": {},
   "outputs": [],
   "source": [
    "import pandas as pd"
   ]
  },
  {
   "cell_type": "code",
   "execution_count": null,
   "metadata": {},
   "outputs": [],
   "source": [
    "import pandas as pd\n",
    "\n",
    "def process_excel_file(file_path):\n",
    "    # Load the Excel file\n",
    "    xls = pd.ExcelFile(file_path)\n",
    "    \n",
    "    # Initialize an empty list to store the final result\n",
    "    final_dataframes = []\n",
    "    \n",
    "    # Iterate through all the sheets in the Excel file\n",
    "    for sheet_name in xls.sheet_names:\n",
    "        # Read the current sheet into a DataFrame\n",
    "        df = pd.read_excel(xlsx, sheet_name=sheet_name)\n",
    "        \n",
    "        # Step 2: Find the row where the first column contains \"Account:\"\n",
    "        account_row = df[df.iloc[:, 0].str.contains(\"Account:\", case=False, na=False)]\n",
    "        \n",
    "        if account_row.empty:\n",
    "            print(f\"No 'Account' row found in sheet: {sheet_name}\")\n",
    "            continue\n",
    "        \n",
    "        # Extract the row where \"Account\" was found\n",
    "        account_row = account_row.iloc[0]\n",
    "        \n",
    "        # Step 3: Create a new DataFrame with the account_row as the first row\n",
    "        new_df = pd.DataFrame([account_row])\n",
    "        \n",
    "        # Step 4: Find and append the row that starts with \"yyyy-mm\"\n",
    "        # Assuming the first column contains a date in the format \"yyyy-mm\"\n",
    "        yyyy_mm_row = df[df.iloc[:, 0].str.match(r'^\\d{4}-\\d{2}', na=False)]\n",
    "        \n",
    "        if not yyyy_mm_row.empty:\n",
    "            new_df = new_df.append(yyyy_mm_row.iloc[0], ignore_index=True)\n",
    "        \n",
    "        # Step 5: Append the last 5 rows\n",
    "        last_5_rows = df.tail(5)\n",
    "        new_df = pd.concat([new_df, last_5_rows], ignore_index=True)\n",
    "        \n",
    "        # Add the new DataFrame for this sheet to the list\n",
    "        final_dataframes.append(new_df)\n",
    "    \n",
    "    # Concatenate all the dataframes from all sheets\n",
    "    final_df = pd.concat(final_dataframes, ignore_index=True)\n",
    "    \n",
    "    return final_df\n",
    "\n",
    "\n",
    "# Example usage:\n",
    "# file_path = 'your_excel_file.xlsx'\n",
    "# final_df = process_excel_file(file_path)\n",
    "print(new_df)\n",
    "\n"
   ]
  },
  {
   "cell_type": "code",
   "execution_count": 21,
   "metadata": {},
   "outputs": [],
   "source": [
    "import openpyxl"
   ]
  },
  {
   "cell_type": "code",
   "execution_count": 22,
   "metadata": {},
   "outputs": [],
   "source": [
    "import re"
   ]
  },
  {
   "cell_type": "code",
   "execution_count": null,
   "metadata": {},
   "outputs": [
    {
     "ename": "NameError",
     "evalue": "name 'Series' is not defined",
     "output_type": "error",
     "traceback": [
      "\u001b[1;31m---------------------------------------------------------------------------\u001b[0m",
      "\u001b[1;31mNameError\u001b[0m                                 Traceback (most recent call last)",
      "Cell \u001b[1;32mIn[26], line 6\u001b[0m\n\u001b[0;32m      4\u001b[0m \u001b[38;5;28;01mfor\u001b[39;00m sheet_name \u001b[38;5;129;01min\u001b[39;00m xls\u001b[38;5;241m.\u001b[39msheet_names:\n\u001b[0;32m      5\u001b[0m     df \u001b[38;5;241m=\u001b[39m pd\u001b[38;5;241m.\u001b[39mread_excel(xlsx, sheet_name\u001b[38;5;241m=\u001b[39msheet_name)\n\u001b[1;32m----> 6\u001b[0m     account_contents \u001b[38;5;241m=\u001b[39m \u001b[43mSeries\u001b[49m\u001b[38;5;241m.\u001b[39mstr\u001b[38;5;241m.\u001b[39mcontains(\u001b[38;5;124m\"\u001b[39m\u001b[38;5;124mAccount:\u001b[39m\u001b[38;5;124m\"\u001b[39m, case\u001b[38;5;241m=\u001b[39m\u001b[38;5;28;01mTrue\u001b[39;00m, na\u001b[38;5;241m=\u001b[39m\u001b[38;5;28;01mFalse\u001b[39;00m)\n\u001b[0;32m      7\u001b[0m     account_row \u001b[38;5;241m=\u001b[39m df[df\u001b[38;5;241m.\u001b[39miloc[:, \u001b[38;5;241m0\u001b[39m]]\n\u001b[0;32m      8\u001b[0m     \u001b[38;5;66;03m# account_row = df[df.iloc[[:, 0]].str.contains(\"Account:\", case=True, na=False)]\u001b[39;00m\n",
      "\u001b[1;31mNameError\u001b[0m: name 'Series' is not defined"
     ]
    }
   ],
   "source": [
    "file_path = (r\"C:\\Users\\j\\Documents\\Script Tests\\Solar Monthly\\Meter Summary by Period Distribution2024-10.xlsx\")\n",
    "xls = pd.ExcelFile(file_path)\n",
    "final_dataframes = []\n",
    "for sheet_name in xls.sheet_names:\n",
    "    df = pd.read_excel(xlsx, sheet_name=sheet_name)\n",
    "    account_contents = Series.str.contains(\"Account:\", case=True, na=False)\n",
    "    account_row = df[df.iloc[:, 0]]\n",
    "    # account_row = df[df.iloc[[:, 0]].str.contains(\"Account:\", case=True, na=False)]\n",
    "    \n",
    "    if account_row.empty:\n",
    "        print(f\"No 'Account' row found in sheet: {sheet_name}\")\n",
    "        continue\n",
    "\n",
    "    account_row = account_row.iloc[:,1]\n",
    "    new_df = pd.DataFrame([account_row])\n",
    "    # yyyy_mm_row = df[df.iloc[:, 0].str.match(r'^\\d{4}-\\d{2}', na=False)]\n",
    "    # if not yyyy_mm_row.empty:\n",
    "    #     new_df = pd.concat([new_df, pd.DataFrame(yyyy_mm_row.iloc[0])], ignore_index=True)\n",
    "\n",
    "\n",
    "    print(new_df)\n",
    "    "
   ]
  },
  {
   "cell_type": "code",
   "execution_count": null,
   "metadata": {},
   "outputs": [],
   "source": [
    "# file_path = (r\"C:\\Users\\j\\Meter Summary by Period Distribution2024-10.xlsx\")\n",
    "# final_df = process_excel_file(r\"C:\\Users\\jSolar Monthly\\Results\\new_results.csv\")\n",
    "# print(final_df)"
   ]
  },
  {
   "cell_type": "code",
   "execution_count": 32,
   "metadata": {},
   "outputs": [
    {
     "data": {
      "text/html": [
       "<div>\n",
       "<style scoped>\n",
       "    .dataframe tbody tr th:only-of-type {\n",
       "        vertical-align: middle;\n",
       "    }\n",
       "\n",
       "    .dataframe tbody tr th {\n",
       "        vertical-align: top;\n",
       "    }\n",
       "\n",
       "    .dataframe thead th {\n",
       "        text-align: right;\n",
       "    }\n",
       "</style>\n",
       "<table border=\"1\" class=\"dataframe\">\n",
       "  <thead>\n",
       "    <tr style=\"text-align: right;\">\n",
       "      <th></th>\n",
       "      <th>a</th>\n",
       "      <th>b</th>\n",
       "      <th>c</th>\n",
       "      <th>d</th>\n",
       "    </tr>\n",
       "  </thead>\n",
       "  <tbody>\n",
       "    <tr>\n",
       "      <th>0</th>\n",
       "      <td>1</td>\n",
       "      <td>2</td>\n",
       "      <td>3</td>\n",
       "      <td>4</td>\n",
       "    </tr>\n",
       "    <tr>\n",
       "      <th>1</th>\n",
       "      <td>10</td>\n",
       "      <td>20</td>\n",
       "      <td>30</td>\n",
       "      <td>40</td>\n",
       "    </tr>\n",
       "    <tr>\n",
       "      <th>2</th>\n",
       "      <td>11</td>\n",
       "      <td>22</td>\n",
       "      <td>33</td>\n",
       "      <td>44</td>\n",
       "    </tr>\n",
       "    <tr>\n",
       "      <th>3</th>\n",
       "      <td>100</td>\n",
       "      <td>200</td>\n",
       "      <td>300</td>\n",
       "      <td>400</td>\n",
       "    </tr>\n",
       "    <tr>\n",
       "      <th>4</th>\n",
       "      <td>1000</td>\n",
       "      <td>2000</td>\n",
       "      <td>3000</td>\n",
       "      <td>4000</td>\n",
       "    </tr>\n",
       "  </tbody>\n",
       "</table>\n",
       "</div>"
      ],
      "text/plain": [
       "      a     b     c     d\n",
       "0     1     2     3     4\n",
       "1    10    20    30    40\n",
       "2    11    22    33    44\n",
       "3   100   200   300   400\n",
       "4  1000  2000  3000  4000"
      ]
     },
     "execution_count": 32,
     "metadata": {},
     "output_type": "execute_result"
    }
   ],
   "source": [
    "mydict = [{'a': 1, 'b': 2, 'c': 3, 'd': 4},\n",
    "          {'a': 10, 'b': 20, 'c': 30, 'd': 40},\n",
    "          {'a': 11, 'b': 22, 'c': 33, 'd': 44},\n",
    "          {'a': 100, 'b': 200, 'c': 300, 'd': 400},\n",
    "          {'a': 1000, 'b': 2000, 'c': 3000, 'd': 4000}]\n",
    "df = pd.DataFrame(mydict)\n",
    "df"
   ]
  },
  {
   "cell_type": "code",
   "execution_count": 41,
   "metadata": {},
   "outputs": [
    {
     "data": {
      "text/html": [
       "<div>\n",
       "<style scoped>\n",
       "    .dataframe tbody tr th:only-of-type {\n",
       "        vertical-align: middle;\n",
       "    }\n",
       "\n",
       "    .dataframe tbody tr th {\n",
       "        vertical-align: top;\n",
       "    }\n",
       "\n",
       "    .dataframe thead th {\n",
       "        text-align: right;\n",
       "    }\n",
       "</style>\n",
       "<table border=\"1\" class=\"dataframe\">\n",
       "  <thead>\n",
       "    <tr style=\"text-align: right;\">\n",
       "      <th></th>\n",
       "      <th>a</th>\n",
       "      <th>b</th>\n",
       "      <th>c</th>\n",
       "      <th>d</th>\n",
       "    </tr>\n",
       "  </thead>\n",
       "  <tbody>\n",
       "    <tr>\n",
       "      <th>0</th>\n",
       "      <td>1</td>\n",
       "      <td>2</td>\n",
       "      <td>3</td>\n",
       "      <td>4</td>\n",
       "    </tr>\n",
       "  </tbody>\n",
       "</table>\n",
       "</div>"
      ],
      "text/plain": [
       "   a  b  c  d\n",
       "0  1  2  3  4"
      ]
     },
     "execution_count": 41,
     "metadata": {},
     "output_type": "execute_result"
    }
   ],
   "source": [
    "df.iloc[:1]"
   ]
  },
  {
   "cell_type": "code",
   "execution_count": null,
   "metadata": {},
   "outputs": [],
   "source": []
  },
  {
   "cell_type": "code",
   "execution_count": null,
   "metadata": {},
   "outputs": [],
   "source": []
  }
 ],
 "metadata": {
  "kernelspec": {
   "display_name": ".venv",
   "language": "python",
   "name": "python3"
  },
  "language_info": {
   "codemirror_mode": {
    "name": "ipython",
    "version": 3
   },
   "file_extension": ".py",
   "mimetype": "text/x-python",
   "name": "python",
   "nbconvert_exporter": "python",
   "pygments_lexer": "ipython3",
   "version": "3.13.0"
  }
 },
 "nbformat": 4,
 "nbformat_minor": 2
}
