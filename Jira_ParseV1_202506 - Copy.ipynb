{
 "cells": [
  {
   "cell_type": "code",
   "execution_count": 2,
   "metadata": {},
   "outputs": [],
   "source": [
    "import pandas as pd\n",
    "import numpy as np\n",
    "import openpyxl"
   ]
  },
  {
   "cell_type": "code",
   "execution_count": null,
   "metadata": {},
   "outputs": [
    {
     "name": "stdout",
     "output_type": "stream",
     "text": [
      "Collecting xlsxwriter\n",
      "  Downloading xlsxwriter-3.2.5-py3-none-any.whl.metadata (2.7 kB)\n",
      "Downloading xlsxwriter-3.2.5-py3-none-any.whl (172 kB)\n",
      "Installing collected packages: xlsxwriter\n",
      "Successfully installed xlsxwriter-3.2.5\n",
      "Note: you may need to restart the kernel to use updated packages.\n"
     ]
    },
    {
     "name": "stderr",
     "output_type": "stream",
     "text": [
      "\n",
      "[notice] A new release of pip is available: 24.3.1 -> 25.1.1\n",
      "[notice] To update, run: python.exe -m pip install --upgrade pip\n"
     ]
    }
   ],
   "source": [
    "# pip install xlsxwriter"
   ]
  },
  {
   "cell_type": "code",
   "execution_count": 108,
   "metadata": {},
   "outputs": [],
   "source": [
    "from pandas import ExcelWriter\n",
    "import xlsxwriter"
   ]
  },
  {
   "cell_type": "code",
   "execution_count": null,
   "metadata": {},
   "outputs": [],
   "source": [
    "filep = (r\"C:\\Users\\...........\")"
   ]
  },
  {
   "cell_type": "code",
   "execution_count": 4,
   "metadata": {},
   "outputs": [],
   "source": [
    "datframe = pd.read_csv(filep, header= 0)"
   ]
  },
  {
   "cell_type": "code",
   "execution_count": 5,
   "metadata": {},
   "outputs": [
    {
     "data": {
      "text/plain": [
       "np.True_"
      ]
     },
     "execution_count": 5,
     "metadata": {},
     "output_type": "execute_result"
    }
   ],
   "source": [
    "# datframe.columns\n",
    "# datframe.info\n",
    "# datframe.head()\n",
    "# len(datframe)\n",
    "datframe.isnull().values.any()"
   ]
  },
  {
   "cell_type": "code",
   "execution_count": 6,
   "metadata": {},
   "outputs": [],
   "source": [
    "datframe1 = datframe.dropna(axis=1, how=\"all\") # # Only drop columns where all values are NaN"
   ]
  },
  {
   "cell_type": "code",
   "execution_count": 7,
   "metadata": {},
   "outputs": [
    {
     "data": {
      "text/plain": [
       "Index(['Summary', 'Issue key', 'Issue id', 'Issue Type', 'Status',\n",
       "       'Project key', 'Project name', 'Project type', 'Project lead',\n",
       "       'Project lead id', 'Priority', 'Resolution', 'Assignee', 'Assignee Id',\n",
       "       'Reporter', 'Reporter Id', 'Creator', 'Creator Id', 'Created',\n",
       "       'Updated', 'Last Viewed', 'Resolved', 'Votes', 'Description',\n",
       "       'Watchers', 'Watchers.1', 'Watchers.2', 'Watchers Id', 'Watchers Id.1',\n",
       "       'Watchers Id.2', 'Log Work', 'Remaining Estimate', 'Time Spent',\n",
       "       'Σ Remaining Estimate', 'Σ Time Spent', 'Security Level', 'Attachment',\n",
       "       'Attachment.1', 'Attachment.2', 'Attachment.3', 'Attachment.4',\n",
       "       'Attachment.5', 'Custom field (Approvals)', 'Custom field (Approvers)',\n",
       "       'Custom field (Approvers).1', 'Custom field (Approvers)Id',\n",
       "       'Custom field (Approvers)Id.1', 'Custom field (Client division)',\n",
       "       'Custom field (Cost Element)', 'Custom field (Division).1',\n",
       "       'Custom field (Functional Area Code)',\n",
       "       'Custom field (Funding Approval)', 'Custom field (Funding Source)',\n",
       "       'Custom field (Location)', 'Custom field (Old SRP#)',\n",
       "       'Custom field (Phone Number)', 'Custom field (Rank)',\n",
       "       'Custom field (Reason for Request)', 'Custom field (Request Type)',\n",
       "       'Custom field (Request language)',\n",
       "       'Custom field (Request participants)',\n",
       "       'Custom field (Request participants).1',\n",
       "       'Custom field (Request participants).2',\n",
       "       'Custom field (Request participants).3',\n",
       "       'Custom field (Request participants).4',\n",
       "       'Custom field (Request participants).5', 'Satisfaction rating',\n",
       "       'Custom field (Satisfaction date)', 'Custom field (WO Unique Key)',\n",
       "       'Custom field ([CHART] Date of First Response)',\n",
       "       'Custom field ([CHART] Time in Status)', 'Comment', 'Comment.1',\n",
       "       'Comment.2', 'Comment.3', 'Comment.4', 'Comment.5', 'Comment.6',\n",
       "       'Comment.7', 'Comment.8', 'Status Category', 'Status Category Changed'],\n",
       "      dtype='object')"
      ]
     },
     "execution_count": 7,
     "metadata": {},
     "output_type": "execute_result"
    }
   ],
   "source": [
    "# len(datframe.columns)\n",
    "# len(datframe1.columns)\n",
    "datframe1.columns"
   ]
  },
  {
   "cell_type": "code",
   "execution_count": 74,
   "metadata": {},
   "outputs": [
    {
     "data": {
      "text/plain": [
       "82"
      ]
     },
     "execution_count": 74,
     "metadata": {},
     "output_type": "execute_result"
    }
   ],
   "source": [
    "len(datframe1.columns)"
   ]
  },
  {
   "cell_type": "code",
   "execution_count": 111,
   "metadata": {},
   "outputs": [
    {
     "name": "stdout",
     "output_type": "stream",
     "text": [
      "                                             Division  count\n",
      "0   Corporate Services -> Corporate Real Estate Ma...     97\n",
      "1   Community and Social Services -> Parks and Rec...     41\n",
      "2   Community and Social Services -> Seniors Servi...      6\n",
      "3   Community and Social Services -> Children's Se...      3\n",
      "4            Infrastructure Services -> Toronto Water      3\n",
      "5           Corporate Services -> Technology Services      2\n",
      "6                                  Corporate Services      2\n",
      "7                       Community and Social Services      1\n",
      "8                                               Other      1\n",
      "9                                 Other -> Contractor      1\n",
      "10  Community and Social Services -> Toronto Fire ...      1\n",
      "11                                     Other -> Other      1\n",
      "12                              City Manager Services      1\n",
      "13  Community and Social Services -> Toronto Shelt...      1\n"
     ]
    }
   ],
   "source": [
    "datframe1[\"Custom field (Division).1\"]\n",
    "division_count = datframe1[\"Custom field (Division).1\"].value_counts().reset_index()\n",
    "division_count.columns = ['Division', 'count']\n",
    "print(division_count)\n",
    "per_division_count = datframe1.groupby(['Custom field (Division).1', 'Custom field (Request Type)']).size().reset_index(name='count')\n",
    "per_division_count_pivot = per_division_count.pivot_table(index='Custom field (Division).1', columns='Custom field (Request Type)', values='count', fill_value=0).reset_index()\n",
    "per_division_count_pivot_df = pd.DataFrame(per_division_count_pivot)\n",
    "# print(per_assignee_count_pivot_df)\n",
    "per_division_count_pivot.to_excel('perDivision.xlsx', index=False)"
   ]
  },
  {
   "cell_type": "code",
   "execution_count": 57,
   "metadata": {},
   "outputs": [
    {
     "data": {
      "text/html": [
       "<div>\n",
       "<style scoped>\n",
       "    .dataframe tbody tr th:only-of-type {\n",
       "        vertical-align: middle;\n",
       "    }\n",
       "\n",
       "    .dataframe tbody tr th {\n",
       "        vertical-align: top;\n",
       "    }\n",
       "\n",
       "    .dataframe thead th {\n",
       "        text-align: right;\n",
       "    }\n",
       "</style>\n",
       "<table border=\"1\" class=\"dataframe\">\n",
       "  <thead>\n",
       "    <tr style=\"text-align: right;\">\n",
       "      <th>Custom field (Request Type)</th>\n",
       "      <th>Custom field (Location)</th>\n",
       "      <th>Building Automation System (BAS) - Operational Support</th>\n",
       "      <th>Building Automation System (BAS) - Project Support</th>\n",
       "      <th>Net Zero Emissions Consultations</th>\n",
       "    </tr>\n",
       "  </thead>\n",
       "  <tbody>\n",
       "    <tr>\n",
       "      <th>0</th>\n",
       "      <td># various various - former HTS locations</td>\n",
       "      <td>1.0</td>\n",
       "      <td>0.0</td>\n",
       "      <td>0.0</td>\n",
       "    </tr>\n",
       "    <tr>\n",
       "      <th>1</th>\n",
       "      <td>100 Ethennonnhawahstihnen Ln (Ethennonnhawahst...</td>\n",
       "      <td>1.0</td>\n",
       "      <td>0.0</td>\n",
       "      <td>0.0</td>\n",
       "    </tr>\n",
       "    <tr>\n",
       "      <th>2</th>\n",
       "      <td>100 Ethennonnhawahstihnen' lane Ethennonnhawah...</td>\n",
       "      <td>1.0</td>\n",
       "      <td>0.0</td>\n",
       "      <td>0.0</td>\n",
       "    </tr>\n",
       "    <tr>\n",
       "      <th>3</th>\n",
       "      <td>100 Queen St E</td>\n",
       "      <td>1.0</td>\n",
       "      <td>0.0</td>\n",
       "      <td>0.0</td>\n",
       "    </tr>\n",
       "    <tr>\n",
       "      <th>4</th>\n",
       "      <td>101 Placer Court / 4117 Lawrence Avenue / 2671...</td>\n",
       "      <td>0.0</td>\n",
       "      <td>1.0</td>\n",
       "      <td>0.0</td>\n",
       "    </tr>\n",
       "  </tbody>\n",
       "</table>\n",
       "</div>"
      ],
      "text/plain": [
       "Custom field (Request Type)                            Custom field (Location)  \\\n",
       "0                                     # various various - former HTS locations   \n",
       "1                            100 Ethennonnhawahstihnen Ln (Ethennonnhawahst...   \n",
       "2                            100 Ethennonnhawahstihnen' lane Ethennonnhawah...   \n",
       "3                                                               100 Queen St E   \n",
       "4                            101 Placer Court / 4117 Lawrence Avenue / 2671...   \n",
       "\n",
       "Custom field (Request Type)  Building Automation System (BAS) - Operational Support  \\\n",
       "0                                                                          1.0        \n",
       "1                                                                          1.0        \n",
       "2                                                                          1.0        \n",
       "3                                                                          1.0        \n",
       "4                                                                          0.0        \n",
       "\n",
       "Custom field (Request Type)  Building Automation System (BAS) - Project Support  \\\n",
       "0                                                                          0.0    \n",
       "1                                                                          0.0    \n",
       "2                                                                          0.0    \n",
       "3                                                                          0.0    \n",
       "4                                                                          1.0    \n",
       "\n",
       "Custom field (Request Type)  Net Zero Emissions Consultations  \n",
       "0                                                         0.0  \n",
       "1                                                         0.0  \n",
       "2                                                         0.0  \n",
       "3                                                         0.0  \n",
       "4                                                         0.0  "
      ]
     },
     "execution_count": 57,
     "metadata": {},
     "output_type": "execute_result"
    }
   ],
   "source": [
    "# Count occurrences of each unique value in the \"places\" column\n",
    "location_count = datframe1[\"Custom field (Location)\"].value_counts().reset_index()\n",
    "# Rename columns for clarity\n",
    "location_count.columns = ['Location', 'count']\n",
    "per_location_count = datframe1.groupby([\"Custom field (Location)\", \"Custom field (Request Type)\"]).size().reset_index(name='count')\n",
    "per_location_count_pivot = per_location_count.pivot_table(index='Custom field (Location)', columns='Custom field (Request Type)', values='count', fill_value=0).reset_index()\n",
    "per_location_count_pivot_df = pd.DataFrame(per_location_count_pivot)\n",
    "# print(per_assignee_count_pivot_df)\n",
    "per_location_count_pivot_df.head()"
   ]
  },
  {
   "cell_type": "code",
   "execution_count": 48,
   "metadata": {},
   "outputs": [
    {
     "name": "stdout",
     "output_type": "stream",
     "text": [
      "                                        Request Type  count\n",
      "0  Building Automation System (BAS) - Operational...    130\n",
      "1  Building Automation System (BAS) - Project Sup...     30\n",
      "2                   Net Zero Emissions Consultations      1\n"
     ]
    }
   ],
   "source": [
    "# Number of operations vs projects\n",
    "reqType_count = datframe1[\"Custom field (Request Type)\"].value_counts().reset_index()\n",
    "reqType_count.columns = ['Request Type', 'count']\n",
    "print(reqType_count)"
   ]
  },
  {
   "cell_type": "code",
   "execution_count": null,
   "metadata": {},
   "outputs": [],
   "source": [
    "# Number of requestors/originators\n",
    "requestor_count = datframe1[\"Reporter\"].value_counts().reset_index()\n",
    "requestor_count.columns = ['Originator/Reporter', 'count']\n",
    "print(requestor_count)\n",
    "per_requestor_count = datframe1.groupby(['Reporter', 'Custom field (Request Type)']).size().reset_index(name='count')\n",
    "per_requestor_count_pivot = per_requestor_count.pivot_table(index='Reporter', columns='Custom field (Request Type)', values='count', fill_value=0).reset_index()\n",
    "per_requestor_count_pivot_df = pd.DataFrame(per_requestor_count_pivot)\n",
    "# print(per_assignee_count_pivot_df)\n",
    "# per_division_count_pivot.to_excel('perDivision.xlsx', index=False)\n",
    "per_requestor_count_pivot_df.head()"
   ]
  },
  {
   "cell_type": "code",
   "execution_count": null,
   "metadata": {},
   "outputs": [],
   "source": [
    "# Alternate count for number of requestors/originators by Creator\n",
    "creator_count = datframe1[\"Creator\"].value_counts().reset_index()\n",
    "creator_count.columns = ['Creator', 'count']\n",
    "print(creator_count)\n",
    "per_creator_count = datframe1.groupby(['Creator', 'Custom field (Request Type)']).size().reset_index(name='count')\n",
    "per_creator_count_pivot = per_creator_count.pivot_table(index='Creator', columns= ['Custom field (Request Type)'], values='count', fill_value=0).reset_index()\n",
    "per_creator_count_pivot_df = pd.DataFrame(per_creator_count_pivot)"
   ]
  },
  {
   "cell_type": "code",
   "execution_count": null,
   "metadata": {},
   "outputs": [],
   "source": [
    "pattern1 = \"user|account|bas access|user access|password\"\n",
    "mask1 = datframe1['Summary'].str.contains( pattern1,case=False, na=True)\n",
    "# datframe1[mask1].sample(10)\n",
    "datframe1[mask1].head\n",
    "usermask = pd.DataFrame(datframe1[mask1])"
   ]
  },
  {
   "cell_type": "code",
   "execution_count": 98,
   "metadata": {},
   "outputs": [],
   "source": [
    "# | = OR, ~ = NOT\n",
    "pattern2 = \"setpoint|set point|override|temperature|heating|cooling|schedule|FIN\"\n",
    "mask2 = datframe1['Summary'].str.contains( pattern2,case=False, na=True)\n",
    "ezfixmask = pd.DataFrame(datframe1[mask2])"
   ]
  },
  {
   "cell_type": "code",
   "execution_count": 96,
   "metadata": {},
   "outputs": [],
   "source": [
    "pattern3 = pattern1 + pattern2\n",
    "mask3 = datframe1['Summary'].str.contains( pattern3,case=False, na=True)\n",
    "othermask = pd.DataFrame(datframe1[~mask3])"
   ]
  },
  {
   "cell_type": "code",
   "execution_count": null,
   "metadata": {},
   "outputs": [
    {
     "name": "stdout",
     "output_type": "stream",
     "text": [
      "Amount that contains: user|account|bas access|user access|password:39\n",
      "Amount that contains: setpoint|set point|override|temperature|heating|cooling|schedule|FIN:25\n",
      "Others: user|account|bas access|user access|passwordsetpoint|set point|override|temperature|heating|cooling|schedule:115\n"
     ]
    }
   ],
   "source": [
    "keywordstr = print(f\"Amount that contains: {pattern1}:{len(usermask)}\\nAmount that contains: {pattern2}:{len(ezfixmask)}\\nOthers: {pattern3}:{len(othermask)}\")"
   ]
  },
  {
   "cell_type": "code",
   "execution_count": null,
   "metadata": {},
   "outputs": [],
   "source": [
    "keyword_count = datframe1[\"Creator\"].value_counts().reset_index()\n",
    "keyword_count.columns = ['Creator', 'count']\n",
    "print(creator_count)"
   ]
  },
  {
   "cell_type": "code",
   "execution_count": 22,
   "metadata": {},
   "outputs": [
    {
     "data": {
      "text/plain": [
       "3"
      ]
     },
     "execution_count": 22,
     "metadata": {},
     "output_type": "execute_result"
    }
   ],
   "source": [
    "#search individual column with keyword\n",
    "# keyword = \"Children's\"\n",
    "# testfiltered_data = datframe1[datframe1['Custom field (Division).1'].str.contains(keyword, case=False, na=False)]\n",
    "# len(testfiltered_data)"
   ]
  },
  {
   "cell_type": "code",
   "execution_count": 110,
   "metadata": {},
   "outputs": [
    {
     "name": "stdout",
     "output_type": "stream",
     "text": [
      "Excel file 'multi_sheet_output.xlsx' created with multiple sheets.\n"
     ]
    }
   ],
   "source": [
    "with pd.ExcelWriter('multi_sheet_output.xlsx', engine='xlsxwriter') as writer:\n",
    "    datframe1.to_excel(writer, sheet_name='Cleaned Table', index=False)\n",
    "    per_location_count_pivot_df.to_excel(writer, sheet_name='Per Location Breakdown', index=False)\n",
    "    reqType_count.to_excel(writer, sheet_name='Total ReqType Breakdown', index=False)\n",
    "    per_requestor_count_pivot_df.to_excel(writer, sheet_name='Per Requestor Breakdown', index=False)\n",
    "    per_creator_count_pivot_df.to_excel(writer, sheet_name='Per Creator Breakdown', index=False)\n",
    "    # keywordstr.to_excel(writer, sheet_name='Keyword Summary', index=False)\n",
    "    usermask.to_excel(writer, sheet_name='User Account Issues', index=False)\n",
    "    ezfixmask.to_excel(writer, sheet_name='Remote Fixable', index=False)\n",
    "    othermask.to_excel(writer, sheet_name='Other Issues', index=False)\n",
    "print(\"Excel file 'multi_sheet_output.xlsx' created with multiple sheets.\")\n",
    "    "
   ]
  },
  {
   "cell_type": "markdown",
   "metadata": {},
   "source": [
    "# WIP Functions to be made into DEF objects"
   ]
  },
  {
   "cell_type": "code",
   "execution_count": null,
   "metadata": {},
   "outputs": [],
   "source": [
    "# Count occurrences of each unique value in the \"places\" column\n",
    "location_count = datframe1[\"Custom field (Location)\"].value_counts().reset_index()\n",
    "# Rename columns for clarity\n",
    "location_count.columns = ['Location', 'count']"
   ]
  },
  {
   "cell_type": "code",
   "execution_count": null,
   "metadata": {},
   "outputs": [],
   "source": [
    "#WIP Create pivot with count of assignee per operations and per project in the request type column\n",
    "# Group by 'places' and 'ops', then count the occurrences\n",
    "per_assignee_count = datframe1.groupby(['Assignee', 'Custom field (Request Type)']).size().reset_index(name='count')\n",
    "\n",
    "# Pivot the table to have 'place' as rows and 'ops' values as columns\n",
    "per_assignee_count_pivot = per_assignee_count.pivot_table(index='Assignee', columns='Custom field (Request Type)', values='count', fill_value=0).reset_index()\n",
    "\n",
    "# Display the result\n",
    "# print(per_assignee_count_pivot)\n",
    "\n",
    "per_assignee_count_pivot_df = pd.DataFrame(per_assignee_count_pivot)\n",
    "# print(per_assignee_count_pivot_df)\n",
    "per_assignee_count_pivot.to_excel('perAssignee.xlsx', index=False)\n",
    "\n",
    "#Initial alternate way\n",
    "# Sample DataFrame\n",
    "data = pd.DataFrame({\n",
    "    'places': [\n",
    "        'toronto', 'ottawa', 'vancouver', 'toronto',\n",
    "        'edmonton', 'ottawa', 'toronto', 'vancouver',\n",
    "        'vancouver', 'edmonton', 'ottawa', 'ottawa'\n",
    "    ],\n",
    "    'ops': [\n",
    "        'one', 'one', 'one', 'two',\n",
    "        'two', 'one', 'two', 'two',\n",
    "        'one', 'one', 'two', 'one'\n",
    "    ],\n",
    "    'Y/N': [\n",
    "        'Y', 'N', 'Y', 'Y',\n",
    "        'N', 'Y', 'N', 'Y',\n",
    "        'N', 'Y', 'Y', 'N'\n",
    "    ]\n",
    "})\n",
    "\n",
    "# Step 1: Group by 'places' and 'ops', then count\n",
    "grouped = data.groupby(['places', 'ops']).size().reset_index(name='count')\n",
    "\n",
    "# Step 2: Pivot so 'places' are rows, 'ops' values are columns\n",
    "place_count = grouped.pivot_table(index='places', columns='ops', values='count', fill_value=0).reset_index()\n",
    "\n",
    "# Step 3: (Optional) Rename the DataFrame\n",
    "place_count.columns.name = None  # Remove the 'ops' label from columns\n",
    "\n",
    "# Display final DataFrame\n",
    "print(place_count)"
   ]
  },
  {
   "cell_type": "code",
   "execution_count": null,
   "metadata": {},
   "outputs": [],
   "source": [
    "pivot_freq = pd.pivot_table(datframe1, \n",
    "    index='Creator',  # Your single y variable\n",
    "    columns=['Custom field (Request Type)', 'Status Category'],  # Your multiple x variables\n",
    "    aggfunc='size', \n",
    "    fill_value=0) # Fills NaN values with 0 for better readability\n",
    "pivot_freq.to_excel('pivotTest.xlsx', index=True)"
   ]
  },
  {
   "cell_type": "code",
   "execution_count": 112,
   "metadata": {},
   "outputs": [],
   "source": [
    "pivot_freq = pd.pivot_table(datframe1, \n",
    "    index='Custom field (Division).1',  # Your single y variable\n",
    "    columns=['Custom field (Request Type)', 'Status'],  # Your multiple x variables\n",
    "    aggfunc='size', \n",
    "    fill_value=0) # Fills NaN values with 0 for better readability\n",
    "pivot_freq.to_excel('Jira_per_div_status.xlsx', index=True)"
   ]
  },
  {
   "cell_type": "code",
   "execution_count": null,
   "metadata": {},
   "outputs": [],
   "source": [
    "# Define the keyword to search for\n",
    "keyword = \"hello\"\n",
    "\n",
    "# Search the 'Message' column for rows containing the keyword (case-insensitive)\n",
    "filtered_data = data[data['Message'].str.contains(keyword, case=False, na=False)]\n",
    "\n",
    "# Display the filtered rows\n",
    "print(filtered_data)"
   ]
  },
  {
   "cell_type": "code",
   "execution_count": null,
   "metadata": {},
   "outputs": [],
   "source": [
    "# Export to Excel with multiple sheets\n",
    "with pd.ExcelWriter('multi_sheet_output.xlsx', engine='xlsxwriter') as writer:\n",
    "    df1.to_excel(writer, sheet_name='People', index=False)\n",
    "    df2.to_excel(writer, sheet_name='Cities', index=False)\n",
    "    df3.to_excel(writer, sheet_name='Products', index=False)\n",
    "\n",
    "print(\"Excel file 'multi_sheet_output.xlsx' created with multiple sheets.\")"
   ]
  }
 ],
 "metadata": {
  "kernelspec": {
   "display_name": "Python 3",
   "language": "python",
   "name": "python3"
  },
  "language_info": {
   "codemirror_mode": {
    "name": "ipython",
    "version": 3
   },
   "file_extension": ".py",
   "mimetype": "text/x-python",
   "name": "python",
   "nbconvert_exporter": "python",
   "pygments_lexer": "ipython3",
   "version": "3.13.0"
  }
 },
 "nbformat": 4,
 "nbformat_minor": 2
}
