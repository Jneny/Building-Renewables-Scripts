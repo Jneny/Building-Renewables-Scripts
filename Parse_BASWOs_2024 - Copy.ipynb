{
 "cells": [
  {
   "cell_type": "code",
   "execution_count": 1,
   "metadata": {},
   "outputs": [],
   "source": [
    "import pandas as pd\n",
    "import numpy as np\n",
    "import openpyxl\n",
    "from pandas import ExcelWriter\n",
    "import xlsxwriter"
   ]
  },
  {
   "cell_type": "code",
   "execution_count": null,
   "metadata": {},
   "outputs": [],
   "source": [
    "fileH = (r\"C:\\Users\\j\\.xlsx\")"
   ]
  },
  {
   "cell_type": "code",
   "execution_count": 68,
   "metadata": {},
   "outputs": [],
   "source": [
    "datframeh = pd.read_excel(fileH, header= 2)\n"
   ]
  },
  {
   "cell_type": "code",
   "execution_count": null,
   "metadata": {},
   "outputs": [],
   "source": [
    "datframeh.head"
   ]
  },
  {
   "cell_type": "code",
   "execution_count": 19,
   "metadata": {},
   "outputs": [
    {
     "data": {
      "text/plain": [
       "Index(['Order #', 'Web Request #', 'Description', 'Order Type', 'Order Status',\n",
       "       'Work Status', 'Address', 'Location Name', 'Client Division',\n",
       "       'Requester', 'Service Provider', 'Priority', 'Created Date',\n",
       "       'Completed Date'],\n",
       "      dtype='object')"
      ]
     },
     "execution_count": 19,
     "metadata": {},
     "output_type": "execute_result"
    }
   ],
   "source": [
    "datframeh.columns\n",
    "# datframeh.info\n",
    "# datframeh.head()\n",
    "# len(datframeh)\n",
    "# datframeh.isnull().values.any()\n",
    "# datframe1 = datframe.dropna(axis=1, how=\"all\") # # Not needed. HVAC WO have no columns fully Null. Only drop columns where all values are NaN"
   ]
  },
  {
   "cell_type": "code",
   "execution_count": 70,
   "metadata": {},
   "outputs": [],
   "source": [
    "patternbas1 = \"bas |automation|temperature|cold|hot|cool|heat|setpoint|set point|circulation|schedule|alarm\"\n",
    "maskbas1 = datframeh['Description'].str.contains( patternbas1,case=False, na=True)\n",
    "# non bas removed\n",
    "bask = datframeh[maskbas1]\n",
    "demands = \"ZF05\"\n",
    "demandonly1 = bask[\"Order Type\"].str.contains(demands, case=False, na=True)\n",
    "# preventative remove\n",
    "demandso = bask[demandonly1]\n",
    "# demandso.head\n",
    "# demandso = pd.DataFrame(datframe1[mask1])"
   ]
  },
  {
   "cell_type": "code",
   "execution_count": null,
   "metadata": {},
   "outputs": [],
   "source": [
    "demandso.info"
   ]
  },
  {
   "cell_type": "code",
   "execution_count": null,
   "metadata": {},
   "outputs": [],
   "source": [
    "BASlocations = \"building1\"|building2...\""
   ]
  },
  {
   "cell_type": "code",
   "execution_count": 72,
   "metadata": {},
   "outputs": [],
   "source": [
    "basloc = demandso[\"Address\"].str.contains(BASlocations, case=False, na=True)\n",
    "basdemandh = demandso[basloc]\n",
    "# basdemandh.head"
   ]
  },
  {
   "cell_type": "code",
   "execution_count": null,
   "metadata": {},
   "outputs": [],
   "source": [
    "remotelocations = \"remotely-accessible-building1|remotely-accessible-building2...\""
   ]
  },
  {
   "cell_type": "code",
   "execution_count": null,
   "metadata": {},
   "outputs": [],
   "source": [
    "remoteloc = basdemandh[\"Address\"].str.contains(remotelocations, case=False, na=True)\n",
    "basRemote= basdemandh[remoteloc]\n",
    "basRemote.head"
   ]
  },
  {
   "cell_type": "code",
   "execution_count": 75,
   "metadata": {},
   "outputs": [],
   "source": [
    "bas_loc_count = basdemandh[\"Address\"].value_counts().reset_index()\n",
    "bas_loc_count.columns = ['Location', 'count']\n",
    "\n",
    "bas_div_count = basdemandh[\"Client Division\"].value_counts().reset_index()\n",
    "bas_div_count.columns = ['Division', 'count']"
   ]
  },
  {
   "cell_type": "code",
   "execution_count": 80,
   "metadata": {},
   "outputs": [
    {
     "data": {
      "text/plain": [
       "Index(['Order #', 'Web Request #', 'Description', 'Order Type', 'Order Status',\n",
       "       'Work Status', 'Address', 'Location Name', 'Client Division',\n",
       "       'Requester', 'Service Provider', 'Priority', 'Created Date',\n",
       "       'Completed Date'],\n",
       "      dtype='object')"
      ]
     },
     "execution_count": 80,
     "metadata": {},
     "output_type": "execute_result"
    }
   ],
   "source": [
    "basdemandh.columns"
   ]
  },
  {
   "cell_type": "code",
   "execution_count": null,
   "metadata": {},
   "outputs": [],
   "source": [
    "#Location and Division by internal or external\n",
    "bas_loc_prov = basdemandh.groupby(['Address', 'Service Provider']).size().reset_index(name='count')\n",
    "per_loc_prov= bas_loc_prov.pivot_table(index='Address', columns= ['Service Provider'], values='count', fill_value=0).reset_index()\n",
    "per_loc_prov_df = pd.DataFrame(per_loc_prov)\n",
    "\n",
    "bas_div_prov = basdemandh.groupby(['Client Division', 'Service Provider']).size().reset_index(name='count')\n",
    "per_div_prov= bas_div_prov.pivot_table(index='Client Division', columns= ['Service Provider'], values='count', fill_value=0).reset_index()\n",
    "per_div_prov_df = pd.DataFrame(per_div_prov)\n",
    "\n",
    "# import os\n",
    "# os.chdir(path=r\"C:\\Users\\\\Temp\")\n",
    "# per_loc_count_df.to_excel('HVACperDivision.xlsx', index=False)\n",
    "\n",
    "# Location and Division by Priority\n",
    "bas_loc_prio = basdemandh.groupby(['Address', 'Priority']).size().reset_index(name='count')\n",
    "per_loc_prio= bas_loc_prio.pivot_table(index='Address', columns= ['Priority'], values='count', fill_value=0).reset_index()\n",
    "per_loc_prio_df = pd.DataFrame(per_loc_prio)\n",
    "\n",
    "bas_div_prio = basdemandh.groupby(['Client Division', 'Priority']).size().reset_index(name='count')\n",
    "per_div_prio= bas_div_prio.pivot_table(index='Client Division', columns= ['Priority'], values='count', fill_value=0).reset_index()\n",
    "per_div_prio_df = pd.DataFrame(per_div_prio)"
   ]
  },
  {
   "cell_type": "code",
   "execution_count": null,
   "metadata": {},
   "outputs": [],
   "source": [
    "# NOT ASSIGNED COULD BE CANCELLED SO SORT BY CANCELLED/ STATUS AS WELL NEXT TIME"
   ]
  },
  {
   "cell_type": "code",
   "execution_count": null,
   "metadata": {},
   "outputs": [],
   "source": [
    "with pd.ExcelWriter('HVAC_BreakdownV1.xlsx', engine='xlsxwriter') as writer:\n",
    "    bask.to_excel(writer, sheet_name='TAB BAS Related', index=False)\n",
    "    demandso.to_excel(writer, sheet_name='TAB BAS Demand', index=False)\n",
    "    basdemandh.to_excel(writer, sheet_name='TAB BAS Demand REAL', index=False)\n",
    "    basRemote.to_excel(writer, sheet_name='TAB BAS Remote', index=False)\n",
    "    bas_loc_count.to_excel(writer, sheet_name='Locations Breakdown', index=False)\n",
    "    bas_div_count.to_excel(writer, sheet_name='Division Breakdown', index=False)\n",
    "    per_loc_prov_df.to_excel(writer, sheet_name='Location Provider Breakdown', index=False)\n",
    "    per_loc_prio_df.to_excel(writer, sheet_name='Location Priority Breakdown', index=False)\n",
    "    per_div_prov_df.to_excel(writer, sheet_name='Division Provider Breakdown', index=False)\n",
    "    per_div_prio_df.to_excel(writer, sheet_name='Division Priority Breakdown', index=False)\n",
    "#     othermask.to_excel(writer, sheet_name='Other Issues', index=False)\n",
    "# print(\"Excel file 'multi_sheet_output.xlsx' created with multiple sheets.\")"
   ]
  },
  {
   "cell_type": "code",
   "execution_count": null,
   "metadata": {},
   "outputs": [],
   "source": []
  },
  {
   "cell_type": "code",
   "execution_count": null,
   "metadata": {},
   "outputs": [],
   "source": []
  },
  {
   "cell_type": "markdown",
   "metadata": {},
   "source": [
    "Old Notes Functions for filtering top 10"
   ]
  },
  {
   "cell_type": "code",
   "execution_count": null,
   "metadata": {},
   "outputs": [],
   "source": [
    "filtered_df = datframe[(datframe['Remotely Acessible'] != 0) & (datframe['Remotely Acessible'].notnull())]"
   ]
  },
  {
   "cell_type": "code",
   "execution_count": null,
   "metadata": {},
   "outputs": [],
   "source": [
    "value_counts = filtered_df['Location Name'].value_counts()\n",
    "top_10_c_values = value_counts.head(10)\n",
    "top_10_df = top_10_c_values.reset_index()\n",
    "top_10_df.columns = ['Location Name', 'frequency']"
   ]
  },
  {
   "cell_type": "code",
   "execution_count": 28,
   "metadata": {},
   "outputs": [
    {
     "name": "stdout",
     "output_type": "stream",
     "text": [
      "                              Location Name  frequency\n",
      "0                       POLICE HEADQUARTERS         29\n",
      "1                   NORTH YORK CIVIC CENTRE         22\n",
      "2                                 CITY HALL         17\n",
      "3  FIRE & PARAMEDIC HQ & EMS STATION NO. 53         17\n",
      "4    TORONTO EAST COURT & MUNICIPAL OFFICES         16\n",
      "5  TORONTO PUBLIC HEALTH HEADQUARTERS BUILD         14\n",
      "6                     REXDALE COMMUNITY HUB         14\n",
      "7                         YORK CIVIC CENTRE         13\n",
      "8                  SCARBOROUGH CIVIC CENTRE         12\n",
      "9         CORPORATE OFFICE BUILDING (HYDRO)         11\n"
     ]
    }
   ],
   "source": [
    "print(top_10_df)"
   ]
  },
  {
   "cell_type": "code",
   "execution_count": 29,
   "metadata": {},
   "outputs": [],
   "source": [
    "top_10_df.to_excel('output10.xlsx', index=False)"
   ]
  },
  {
   "cell_type": "code",
   "execution_count": null,
   "metadata": {},
   "outputs": [],
   "source": []
  }
 ],
 "metadata": {
  "kernelspec": {
   "display_name": "Python 3",
   "language": "python",
   "name": "python3"
  },
  "language_info": {
   "codemirror_mode": {
    "name": "ipython",
    "version": 3
   },
   "file_extension": ".py",
   "mimetype": "text/x-python",
   "name": "python",
   "nbconvert_exporter": "python",
   "pygments_lexer": "ipython3",
   "version": "3.13.0"
  }
 },
 "nbformat": 4,
 "nbformat_minor": 2
}
